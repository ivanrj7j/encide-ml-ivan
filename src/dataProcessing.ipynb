{
 "cells": [
  {
   "cell_type": "code",
   "execution_count": 13,
   "id": "25b9c267",
   "metadata": {},
   "outputs": [],
   "source": [
    "import albumentations as A\n",
    "import os\n",
    "from PIL import Image\n",
    "import random\n",
    "import shutil\n",
    "import numpy as np\n",
    "from uuid import uuid4 as uuid"
   ]
  },
  {
   "cell_type": "code",
   "execution_count": 14,
   "id": "8ce8ce84",
   "metadata": {},
   "outputs": [],
   "source": [
    "TRAIN_RATIO = 0.95"
   ]
  },
  {
   "cell_type": "code",
   "execution_count": 15,
   "id": "ca296e7b",
   "metadata": {},
   "outputs": [
    {
     "data": {
      "text/plain": [
       "(500, 500)"
      ]
     },
     "execution_count": 15,
     "metadata": {},
     "output_type": "execute_result"
    }
   ],
   "source": [
    "dataPath = os.path.join(\"..\", \"data\")\n",
    "catsPath = os.path.join(dataPath, \"cats_set\")\n",
    "dogsPath = os.path.join(dataPath, \"dogs_set\")\n",
    "\n",
    "catsFiles = os.listdir(catsPath)\n",
    "dogsFiles = os.listdir(dogsPath)\n",
    "# listing all the files in directories\n",
    "\n",
    "len(catsFiles), len(dogsFiles)"
   ]
  },
  {
   "cell_type": "code",
   "execution_count": 16,
   "id": "fc5ca64a",
   "metadata": {},
   "outputs": [
    {
     "data": {
      "text/plain": [
       "((475, 25), (475, 25))"
      ]
     },
     "execution_count": 16,
     "metadata": {},
     "output_type": "execute_result"
    }
   ],
   "source": [
    "random.shuffle(catsFiles)\n",
    "random.shuffle(dogsFiles)\n",
    "\n",
    "catsIndex = round(TRAIN_RATIO * len(catsFiles))\n",
    "dogsIndex = round(TRAIN_RATIO * len(dogsFiles))\n",
    "\n",
    "catsTrain, catsTest = catsFiles[:catsIndex], catsFiles[catsIndex:]\n",
    "dogsTrain, dogsTest = dogsFiles[:dogsIndex], dogsFiles[dogsIndex:]\n",
    "\n",
    "(len(catsTrain), len(catsTest)), (len(dogsTrain), len(dogsTest))"
   ]
  },
  {
   "cell_type": "code",
   "execution_count": 17,
   "id": "6b5a461f",
   "metadata": {},
   "outputs": [],
   "source": [
    "def copyFiles(files:list[str], oldDir:str, newDst:str):\n",
    "    os.makedirs(newDst, exist_ok=True)\n",
    "    for file in files:\n",
    "        shutil.copy(os.path.join(oldDir, file), os.path.join(newDst, file))\n",
    "\n",
    "copyFiles(catsTest, catsPath, os.path.join('..', 'data', 'test', 'cats'))\n",
    "copyFiles(dogsTest, dogsPath, os.path.join('..', 'data', 'test', 'dogs'))\n",
    "\n",
    "copyFiles(catsTrain, catsPath, os.path.join('..', 'data', 'train', 'cats'))\n",
    "copyFiles(dogsTrain, dogsPath, os.path.join('..', 'data', 'train', 'dogs'))"
   ]
  },
  {
   "cell_type": "code",
   "execution_count": 18,
   "id": "9e3bcc5c",
   "metadata": {},
   "outputs": [],
   "source": [
    "transform = A.Compose([\n",
    "    A.Resize(128, 128),  # Resize images to a fixed size\n",
    "    A.HorizontalFlip(p=0.5),  # Random horizontal flip\n",
    "    A.RandomRotate90(p=0.5),  # Random 90-degree rotation\n",
    "    A.ShiftScaleRotate(shift_limit=0.05, scale_limit=0.05, rotate_limit=15, p=0.5),  # Small shifts, scaling, and rotations\n",
    "    A.RandomBrightnessContrast(brightness_limit=0.2, contrast_limit=0.2, p=0.5),  # Adjust brightness and contrast\n",
    "    A.HueSaturationValue(hue_shift_limit=10, sat_shift_limit=10, val_shift_limit=10, p=0.5),  # Adjust hue, saturation, and value\n",
    "    A.GaussianBlur(blur_limit=(3, 5), p=0.3),  # Adjusted blur_limit to avoid warning\n",
    "])"
   ]
  },
  {
   "cell_type": "code",
   "execution_count": 19,
   "id": "9691903c",
   "metadata": {},
   "outputs": [],
   "source": [
    "# def augmentImage(files:list[str], oldDir:str, newDst:str):\n",
    "#     os.makedirs(newDst, exist_ok=True)\n",
    "#     for file in files:\n",
    "#         for _ in range(7):\n",
    "#             image = np.array(Image.open(os.path.join(oldDir, file)))\n",
    "#             transformed = transform(image=image)\n",
    "#             transformedImage = Image.fromarray(transformed['image'])\n",
    "#             transformedImage.save(os.path.join(newDst, f\"{str(uuid())}.{file.split('.')[-1]}\"))\n",
    "\n",
    "# augmentImage(catsTrain, catsPath, os.path.join('..', 'data', 'train', 'cats'))\n",
    "# augmentImage(dogsTrain, dogsPath, os.path.join('..', 'data', 'train', 'dogs'))"
   ]
  }
 ],
 "metadata": {
  "kernelspec": {
   "display_name": "pytorchEnv",
   "language": "python",
   "name": "python3"
  },
  "language_info": {
   "codemirror_mode": {
    "name": "ipython",
    "version": 3
   },
   "file_extension": ".py",
   "mimetype": "text/x-python",
   "name": "python",
   "nbconvert_exporter": "python",
   "pygments_lexer": "ipython3",
   "version": "3.12.4"
  }
 },
 "nbformat": 4,
 "nbformat_minor": 5
}
